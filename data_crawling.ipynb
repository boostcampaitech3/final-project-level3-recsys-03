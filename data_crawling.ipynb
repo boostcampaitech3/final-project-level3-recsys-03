{
 "cells": [
  {
   "cell_type": "markdown",
   "metadata": {},
   "source": [
    "##### 무신사 스토어\n",
    "url : https://www.musinsa.com/app/"
   ]
  },
  {
   "cell_type": "code",
   "execution_count": null,
   "metadata": {},
   "outputs": [],
   "source": [
    "from selenium import webdriver\n",
    "import os, time\n",
    "import urllib.request\n",
    "# import ssl\n",
    "\n",
    "driver = webdriver.Chrome('chromedriver.exe 절대 경로')"
   ]
  },
  {
   "cell_type": "code",
   "execution_count": null,
   "metadata": {},
   "outputs": [],
   "source": [
    "def changeUrl(pagenum, category):\n",
    "    url = \"https://www.musinsa.com/category/\" + category + \"?d_cat_cd=\" + category + \"&brand=&rate=&page_kind=search&list_kind=small&sort=pop&sub_sort=&page=\" + str(pagenum) + \"&display_cnt=90&sale_goods=&group_sale=&kids=N&ex_soldout=&color=&price1=&price2=&exclusive_yn=&shoeSizeOption=&tags=&campaign_id=&timesale_yn=&q=&includeKeywords=&measure=\"\n",
    "    return url"
   ]
  },
  {
   "cell_type": "code",
   "execution_count": null,
   "metadata": {},
   "outputs": [],
   "source": [
    "# Save crawling data to list\n",
    "result = list()"
   ]
  },
  {
   "cell_type": "code",
   "execution_count": null,
   "metadata": {},
   "outputs": [],
   "source": [
    "# ex) https://www.musinsa.com/category/003009\n",
    "category = \"003009\"\n",
    "url = changeUrl(1, category)\n",
    "driver.get(url)"
   ]
  },
  {
   "cell_type": "code",
   "execution_count": null,
   "metadata": {},
   "outputs": [],
   "source": [
    "# 마지막 페이지\n",
    "totalPageNum = driver.find_element_by_css_selector('.totalPagingNum').text"
   ]
  },
  {
   "cell_type": "code",
   "execution_count": null,
   "metadata": {},
   "outputs": [],
   "source": [
    "# make directory\n",
    "output_save_folder_path = './images/'+category+'/'\n",
    "\n",
    "if not os.path.exists(output_save_folder_path):\n",
    "    os.makedirs(output_save_folder_path)\n",
    "\n",
    "for i in range(int(totalPageNum)):\n",
    "    url =  changeUrl(i+1, category)\n",
    "    driver.get(url)\n",
    "    \n",
    "    items = driver.find_elements_by_class_name('li_box')\n",
    "\n",
    "    for item in items:\n",
    "        try:\n",
    "            time.sleep(0.5)\n",
    "            img = item.find_element_by_class_name('lazyload.lazy')\n",
    "            imgUrl = img.get_attribute('data-original')\n",
    "            data_no = item.get_attribute('data-no')\n",
    "            article_id = category + data_no\n",
    "            img_info = item.find_element_by_class_name('img-block')\n",
    "            data_href = img_info.get_attribute('href')\n",
    "            title = img_info.get_attribute('title')\n",
    "            article_info = item.find_element_by_class_name('article_info')\n",
    "            brand = article_info.find_element_by_class_name('item_title').text\n",
    "            price = article_info.find_element_by_class_name('price').text.split()\n",
    "            \n",
    "            result.append([article_id, category, brand, title, price[0], data_href, imgUrl])\n",
    "            \n",
    "            #urllib.request.urlretrieve('https:' + imgUrl, output_save_folder_path + category + data_no + \".jpg\")\n",
    "            urllib.request.urlretrieve(imgUrl, output_save_folder_path + category + data_no + \".jpg\")\n",
    "            \n",
    "            #print(category+data_no+\".jpg\")\n",
    "        except Exception as e:\n",
    "            print(e)\n",
    "            pass\n"
   ]
  },
  {
   "cell_type": "code",
   "execution_count": null,
   "metadata": {},
   "outputs": [],
   "source": [
    "\n",
    "driver.close()\n",
    "\n",
    "print(result)"
   ]
  },
  {
   "cell_type": "code",
   "execution_count": null,
   "metadata": {},
   "outputs": [],
   "source": [
    "import pandas as pd\n",
    "\n",
    "# change list to dataframe\n",
    "data = pd.DataFrame(result)\n",
    "\n",
    "data.head()"
   ]
  },
  {
   "cell_type": "code",
   "execution_count": null,
   "metadata": {},
   "outputs": [],
   "source": [
    "# Change column name\n",
    "data.columns = ['article_id', 'category', 'brand', 'title', 'price', 'item_link', 'img_src']"
   ]
  },
  {
   "cell_type": "code",
   "execution_count": null,
   "metadata": {},
   "outputs": [],
   "source": [
    "# Save dataframe to csv\n",
    "data.to_csv('data.csv')  "
   ]
  }
 ],
 "metadata": {
  "interpreter": {
   "hash": "fd2bccb7a3fd5f2005baa05b6de0c16b76f5d2b80ae91231cb73abc97527159e"
  },
  "kernelspec": {
   "display_name": "Python 3.8.10 ('base')",
   "language": "python",
   "name": "python3"
  },
  "language_info": {
   "codemirror_mode": {
    "name": "ipython",
    "version": 3
   },
   "file_extension": ".py",
   "mimetype": "text/x-python",
   "name": "python",
   "nbconvert_exporter": "python",
   "pygments_lexer": "ipython3",
   "version": "3.8.10"
  },
  "orig_nbformat": 4
 },
 "nbformat": 4,
 "nbformat_minor": 2
}
