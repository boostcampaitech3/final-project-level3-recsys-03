{
 "cells": [
  {
   "cell_type": "markdown",
   "metadata": {},
   "source": [
    "##### 무신사 스토어\n",
    "url : https://www.musinsa.com/app/"
   ]
  },
  {
   "cell_type": "code",
   "execution_count": null,
   "metadata": {},
   "outputs": [],
   "source": [
    "from selenium import webdriver\n",
    "import os, time\n",
    "import urllib.request\n",
    "\n",
    "driver = webdriver.Chrome('chromedriver.exe 절대 경로')"
   ]
  },
  {
   "cell_type": "code",
   "execution_count": null,
   "metadata": {},
   "outputs": [],
   "source": [
    "def changeUrl(pagenum, category):\n",
    "    url = \"https://www.musinsa.com/category/\" + category + \"?d_cat_cd=\" + category + \"&brand=&rate=&page_kind=search&list_kind=small&sort=pop&sub_sort=&page=\" + str(pagenum) + \"&display_cnt=90&sale_goods=&group_sale=&kids=N&ex_soldout=&color=&price1=&price2=&exclusive_yn=&shoeSizeOption=&tags=&campaign_id=&timesale_yn=&q=&includeKeywords=&measure=\"\n",
    "    return url"
   ]
  },
  {
   "cell_type": "code",
   "execution_count": null,
   "metadata": {},
   "outputs": [],
   "source": [
    "# ex) https://www.musinsa.com/category/003009\n",
    "category = \"003009\"\n",
    "url = changeUrl(1, category)\n",
    "driver.get(url)"
   ]
  },
  {
   "cell_type": "code",
   "execution_count": null,
   "metadata": {},
   "outputs": [],
   "source": [
    "# 마지막 페이지\n",
    "totalPageNum = driver.find_element_by_css_selector('.totalPagingNum').text"
   ]
  },
  {
   "cell_type": "code",
   "execution_count": null,
   "metadata": {},
   "outputs": [],
   "source": [
    "# make directory\n",
    "output_save_folder_path = './images/'+category+'/'\n",
    "\n",
    "if not os.path.exists(output_save_folder_path):\n",
    "    os.makedirs(output_save_folder_path)\n",
    "\n",
    "for i in range(int(totalPageNum)):\n",
    "    url =  changeUrl(i+1, category)\n",
    "    driver.get(url)\n",
    "    \n",
    "    items = driver.find_elements_by_class_name('li_box')\n",
    "\n",
    "    for item in items:\n",
    "        try:\n",
    "            time.sleep(0.5)\n",
    "            img = item.find_element_by_class_name('lazyload.lazy')\n",
    "            imgUrl = img.get_attribute('data-original')\n",
    "            data_no = item.get_attribute('data-no')\n",
    "\n",
    "            urllib.request.urlretrieve(imgUrl, output_save_folder_path + category + data_no + \".jpg\")\n",
    "            \n",
    "            #print(category+data_no+\".jpg\")\n",
    "        except Exception as e:\n",
    "            print(e)\n",
    "            pass\n",
    "\n",
    "driver.close()"
   ]
  }
 ],
 "metadata": {
  "language_info": {
   "name": "python"
  },
  "orig_nbformat": 4
 },
 "nbformat": 4,
 "nbformat_minor": 2
}
